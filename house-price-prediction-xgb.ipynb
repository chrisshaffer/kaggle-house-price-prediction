{
 "cells": [
  {
   "cell_type": "markdown",
   "id": "chief-financing",
   "metadata": {
    "papermill": {
     "duration": 0.012996,
     "end_time": "2021-04-23T20:26:32.239062",
     "exception": false,
     "start_time": "2021-04-23T20:26:32.226066",
     "status": "completed"
    },
    "tags": []
   },
   "source": [
    "**This notebook is an exercise in the [Introduction to Machine Learning](https://www.kaggle.com/learn/intro-to-machine-learning) course.  You can reference the tutorial at [this link](https://www.kaggle.com/alexisbcook/machine-learning-competitions).**\n",
    "\n",
    "---\n"
   ]
  },
  {
   "cell_type": "markdown",
   "id": "optimum-fighter",
   "metadata": {
    "papermill": {
     "duration": 0.011897,
     "end_time": "2021-04-23T20:26:32.263293",
     "exception": false,
     "start_time": "2021-04-23T20:26:32.251396",
     "status": "completed"
    },
    "tags": []
   },
   "source": [
    "# Introduction\n",
    "\n",
    "In this exercise, you will create and submit predictions for a Kaggle competition. You can then improve your model (e.g. by adding features) to improve and see how you stack up to others taking this course.\n",
    "\n",
    "The steps in this notebook are:\n",
    "1. Build a Random Forest model with all of your data (**X** and **y**).\n",
    "2. Read in the \"test\" data, which doesn't include values for the target.  Predict home values in the test data with your Random Forest model.\n",
    "3. Submit those predictions to the competition and see your score.\n",
    "4. Optionally, come back to see if you can improve your model by adding features or changing your model. Then you can resubmit to see how that stacks up on the competition leaderboard."
   ]
  },
  {
   "cell_type": "markdown",
   "id": "nominated-indie",
   "metadata": {
    "papermill": {
     "duration": 0.011818,
     "end_time": "2021-04-23T20:26:32.287198",
     "exception": false,
     "start_time": "2021-04-23T20:26:32.275380",
     "status": "completed"
    },
    "tags": []
   },
   "source": [
    "## Recap\n",
    "Here's the code you've written so far. Start by running it again."
   ]
  },
  {
   "cell_type": "code",
   "execution_count": 1,
   "id": "circular-preservation",
   "metadata": {
    "execution": {
     "iopub.execute_input": "2021-04-23T20:26:32.333157Z",
     "iopub.status.busy": "2021-04-23T20:26:32.332221Z",
     "iopub.status.idle": "2021-04-23T20:26:33.781085Z",
     "shell.execute_reply": "2021-04-23T20:26:33.780363Z"
    },
    "papermill": {
     "duration": 1.481903,
     "end_time": "2021-04-23T20:26:33.781264",
     "exception": false,
     "start_time": "2021-04-23T20:26:32.299361",
     "status": "completed"
    },
    "tags": []
   },
   "outputs": [],
   "source": [
    "# Code you have previously used to load data\n",
    "import pandas as pd\n",
    "import numpy as np\n",
    "from matplotlib import pyplot\n",
    "from sklearn.ensemble import RandomForestRegressor\n",
    "from sklearn.metrics import mean_absolute_error\n",
    "from sklearn.model_selection import train_test_split\n",
    "from sklearn.model_selection import GridSearchCV\n",
    "from sklearn.tree import DecisionTreeRegressor\n",
    "from sklearn.ensemble import AdaBoostRegressor\n",
    "from sklearn.preprocessing import OrdinalEncoder\n",
    "from xgboost import XGBRegressor\n",
    "from sklearn.model_selection import KFold\n",
    "from sklearn.model_selection import cross_val_score\n",
    "from sklearn.model_selection import RandomizedSearchCV\n",
    "from datetime import datetime\n",
    "import warnings\n",
    "\n",
    "# plot feature importance using built-in function\n",
    "from numpy import loadtxt\n",
    "from xgboost import XGBClassifier\n",
    "from xgboost import plot_importance\n",
    "\n",
    "# Set up code checking\n",
    "import os\n",
    "if not os.path.exists(\"../input/train.csv\"):\n",
    "    os.symlink(\"../input/home-data-for-ml-course/train.csv\", \"../input/train.csv\")  \n",
    "    os.symlink(\"../input/home-data-for-ml-course/test.csv\", \"../input/test.csv\") \n",
    "from learntools.core import binder\n",
    "binder.bind(globals())\n",
    "from learntools.machine_learning.ex7 import *"
   ]
  },
  {
   "cell_type": "code",
   "execution_count": 2,
   "id": "liable-tsunami",
   "metadata": {
    "execution": {
     "iopub.execute_input": "2021-04-23T20:26:33.813263Z",
     "iopub.status.busy": "2021-04-23T20:26:33.812591Z",
     "iopub.status.idle": "2021-04-23T20:26:33.816019Z",
     "shell.execute_reply": "2021-04-23T20:26:33.815374Z"
    },
    "papermill": {
     "duration": 0.022116,
     "end_time": "2021-04-23T20:26:33.816163",
     "exception": false,
     "start_time": "2021-04-23T20:26:33.794047",
     "status": "completed"
    },
    "tags": []
   },
   "outputs": [],
   "source": [
    "import os, sys\n",
    "\n",
    "class HiddenPrints:\n",
    "    def __enter__(self):\n",
    "        self._original_stdout = sys.stdout\n",
    "        sys.stdout = open(os.devnull, 'w')\n",
    "\n",
    "    def __exit__(self, exc_type, exc_val, exc_tb):\n",
    "        sys.stdout.close()\n",
    "        sys.stdout = self._original_stdout"
   ]
  },
  {
   "cell_type": "code",
   "execution_count": 3,
   "id": "cardiac-current",
   "metadata": {
    "execution": {
     "iopub.execute_input": "2021-04-23T20:26:33.853252Z",
     "iopub.status.busy": "2021-04-23T20:26:33.852547Z",
     "iopub.status.idle": "2021-04-23T20:26:33.855465Z",
     "shell.execute_reply": "2021-04-23T20:26:33.854966Z"
    },
    "papermill": {
     "duration": 0.027161,
     "end_time": "2021-04-23T20:26:33.855630",
     "exception": false,
     "start_time": "2021-04-23T20:26:33.828469",
     "status": "completed"
    },
    "tags": []
   },
   "outputs": [],
   "source": [
    "def modelfit(alg, dtrain, predictors,useTrainCV=True, cv_folds=5, early_stopping_rounds=50):\n",
    "    \n",
    "    if useTrainCV:\n",
    "        xgb_param = alg.get_xgb_params()\n",
    "        xgtrain = xgb.DMatrix(dtrain[predictors].values, label=dtrain[target].values)\n",
    "        cvresult = xgb.cv(xgb_param, xgtrain, num_boost_round=alg.get_params()['n_estimators'], nfold=cv_folds,\n",
    "            metrics='auc', early_stopping_rounds=early_stopping_rounds, show_progress=False)\n",
    "        alg.set_params(n_estimators=cvresult.shape[0])\n",
    "    \n",
    "    #Fit the algorithm on the data\n",
    "    alg.fit(dtrain[predictors], dtrain['Disbursed'],eval_metric='auc')\n",
    "        \n",
    "    #Predict training set:\n",
    "    dtrain_predictions = alg.predict(dtrain[predictors])\n",
    "    dtrain_predprob = alg.predict_proba(dtrain[predictors])[:,1]\n",
    "        \n",
    "    #Print model report:\n",
    "    print(\"\\nModel Report\")\n",
    "    print(\"Accuracy : %.4g\" % metrics.accuracy_score(dtrain['Disbursed'].values, dtrain_predictions))\n",
    "    print(\"AUC Score (Train): %f\" % metrics.roc_auc_score(dtrain['Disbursed'], dtrain_predprob))\n",
    "                    \n",
    "    feat_imp = pd.Series(alg.booster().get_fscore()).sort_values(ascending=False)\n",
    "    feat_imp.plot(kind='bar', title='Feature Importances')\n",
    "    plt.ylabel('Feature Importance Score')"
   ]
  },
  {
   "cell_type": "code",
   "execution_count": 4,
   "id": "jewish-street",
   "metadata": {
    "execution": {
     "iopub.execute_input": "2021-04-23T20:26:33.890724Z",
     "iopub.status.busy": "2021-04-23T20:26:33.889986Z",
     "iopub.status.idle": "2021-04-23T20:26:34.091499Z",
     "shell.execute_reply": "2021-04-23T20:26:34.090829Z"
    },
    "papermill": {
     "duration": 0.223754,
     "end_time": "2021-04-23T20:26:34.091682",
     "exception": false,
     "start_time": "2021-04-23T20:26:33.867928",
     "status": "completed"
    },
    "tags": []
   },
   "outputs": [],
   "source": [
    "# Turn off warning messages\n",
    "warnings.filterwarnings('ignore') \n",
    "\n",
    "# Path of the file to read. We changed the directory structure to simplify submitting to a competition\n",
    "iowa_file_path = '../input/train.csv'\n",
    "home_data = pd.read_csv(iowa_file_path)\n",
    "\n",
    "# Fill NaN values with the previous value in the column\n",
    "home_data.fillna(method = 'ffill', inplace = True)\n",
    "home_data.fillna(method = 'bfill', inplace = True)\n",
    "\n",
    "# Create target object and call it y\n",
    "y = home_data.SalePrice\n",
    "\n",
    "# Convert categorical data into numeric labels\n",
    "num_features = list(home_data.select_dtypes(include=[np.number]).columns)\n",
    "cat_features = 'MSZoning Street Alley LotShape LandContour Utilities LotConfig LandSlope Neighborhood \\\n",
    "        Condition1 Condition2 BldgType HouseStyle RoofStyle RoofMatl Exterior1st Exterior2nd \\\n",
    "        MasVnrType ExterQual ExterCond Foundation BsmtQual BsmtCond BsmtExposure BsmtFinType1 \\\n",
    "        BsmtFinType2 Heating HeatingQC CentralAir Electrical KitchenQual Functional FireplaceQu \\\n",
    "        GarageType GarageFinish GarageQual GarageCond PavedDrive PoolQC Fence MiscFeature SaleType \\\n",
    "        SaleCondition'.split()\n",
    "\n",
    "ord_enc = OrdinalEncoder()\n",
    "cat_code_features = []\n",
    "for f in cat_features:\n",
    "    cat_code_features.append(f + '_code')\n",
    "    home_data[f + '_code'] = ord_enc.fit_transform(home_data[[f]])\n",
    "\n",
    "# Calculate correlation coefficients between SalePrice and other columns\n",
    "features = num_features + cat_code_features\n",
    "# corrs = {}\n",
    "# for f in features:\n",
    "#     corrs[f] = np.round(home_data['SalePrice'].corr(home_data[f], method = 'pearson'),2)\n",
    "# corrs_sorted = dict(sorted(corrs.items(), key=lambda item: np.abs(item[1]), reverse = True))\n",
    "# print(\"\\n\".join(\"{}\\t{}\".format(k, v) for k, v in corrs_sorted.items()))\n",
    "\n",
    "# # Selecting only features with large magnitude correlation coefficients\n",
    "# features = list(dict(filter(lambda elem: abs(elem[1]) > 0.1, corrs_sorted.items())).keys())\n",
    "features.remove('SalePrice')\n",
    "features.remove('Id')\n",
    "# print(features)\n",
    "\n",
    "# Create X\n",
    "X = home_data[features]\n",
    "\n",
    "# Split into validation and training data\n",
    "train_X, val_X, train_y, val_y = train_test_split(X, y, random_state=1)"
   ]
  },
  {
   "cell_type": "code",
   "execution_count": 5,
   "id": "italian-bikini",
   "metadata": {
    "execution": {
     "iopub.execute_input": "2021-04-23T20:26:34.128832Z",
     "iopub.status.busy": "2021-04-23T20:26:34.128088Z",
     "iopub.status.idle": "2021-04-23T20:26:35.969106Z",
     "shell.execute_reply": "2021-04-23T20:26:35.968286Z"
    },
    "papermill": {
     "duration": 1.864786,
     "end_time": "2021-04-23T20:26:35.969310",
     "exception": false,
     "start_time": "2021-04-23T20:26:34.104524",
     "status": "completed"
    },
    "tags": []
   },
   "outputs": [
    {
     "name": "stdout",
     "output_type": "stream",
     "text": [
      "Validation MAE when not specifying max_leaf_nodes: 26,833\n",
      "Validation MAE for best value of max_leaf_nodes: 24,563\n",
      "Validation MAE for Random Forest Model: 16,542\n"
     ]
    }
   ],
   "source": [
    "# Specify Model\n",
    "iowa_model = DecisionTreeRegressor(random_state=1)\n",
    "# Fit Model\n",
    "iowa_model.fit(train_X, train_y)\n",
    "\n",
    "# Make validation predictions and calculate mean absolute error\n",
    "val_predictions = iowa_model.predict(val_X)\n",
    "val_mae = mean_absolute_error(val_predictions, val_y)\n",
    "print(\"Validation MAE when not specifying max_leaf_nodes: {:,.0f}\".format(val_mae))\n",
    "\n",
    "# Using best value for max_leaf_nodes\n",
    "iowa_model = DecisionTreeRegressor(max_leaf_nodes=100, random_state=1)\n",
    "iowa_model.fit(train_X, train_y)\n",
    "val_predictions = iowa_model.predict(val_X)\n",
    "val_mae = mean_absolute_error(val_predictions, val_y)\n",
    "print(\"Validation MAE for best value of max_leaf_nodes: {:,.0f}\".format(val_mae))\n",
    "\n",
    "# Define the model. Set random_state to 1\n",
    "rf_model = RandomForestRegressor(random_state=1)\n",
    "rf_model.fit(train_X, train_y)\n",
    "rf_val_predictions = rf_model.predict(val_X)\n",
    "rf_val_mae = mean_absolute_error(rf_val_predictions, val_y)\n",
    "print(\"Validation MAE for Random Forest Model: {:,.0f}\".format(rf_val_mae))"
   ]
  },
  {
   "cell_type": "code",
   "execution_count": 6,
   "id": "comprehensive-nirvana",
   "metadata": {
    "execution": {
     "iopub.execute_input": "2021-04-23T20:26:36.010324Z",
     "iopub.status.busy": "2021-04-23T20:26:36.007079Z",
     "iopub.status.idle": "2021-04-23T20:26:39.197112Z",
     "shell.execute_reply": "2021-04-23T20:26:39.197722Z"
    },
    "papermill": {
     "duration": 3.213518,
     "end_time": "2021-04-23T20:26:39.197926",
     "exception": false,
     "start_time": "2021-04-23T20:26:35.984408",
     "status": "completed"
    },
    "tags": []
   },
   "outputs": [
    {
     "name": "stdout",
     "output_type": "stream",
     "text": [
      "Validation MAE for Extreme Gradient Boost Model: 14,628\n"
     ]
    },
    {
     "data": {
      "image/png": "[encoded data removed]",
      "text/plain": [
       "<Figure size 432x288 with 1 Axes>"
      ]
     },
     "metadata": {
      "needs_background": "light"
     },
     "output_type": "display_data"
    }
   ],
   "source": [
    "# Extreme Gradient Boost model\n",
    "xgb_model = XGBRegressor(n_estimators=1000,max_depth=4,min_child_weight=5,gamma=10,learning_rate=0.01,eval_metric='mae',\n",
    "                        subsample=0.8)\n",
    "# xgb_model = XGBRegressor(objective='reg:squarederror', n_estimators = 32, max_depth = 4)\n",
    "with HiddenPrints():\n",
    "    xgb_model.fit(train_X, train_y,eval_set = [(train_X,train_y), (val_X, val_y)])\n",
    "xgb_val_predictions = xgb_model.predict(val_X)\n",
    "xgb_val_mae = mean_absolute_error(xgb_val_predictions, val_y)\n",
    "print(\"Validation MAE for Extreme Gradient Boost Model: {:,.0f}\".format(xgb_val_mae))\n",
    "\n",
    "# # param_grid = dict(n_estimators=[8,16])#, max_depth=[3,4,5,6,8])#, learning_rate = [.02,.05,.1,.2,.3]) \n",
    "# # #                   gamma = [0,0.1,0.2,0.3], min_child_weight = [1,3,5])\n",
    "# param_grid = dict(subsample=[0.4,0.6,0.8,1])\n",
    "# # grid = GridSearchCV(estimator=xgb_model, param_grid=param_grid, n_jobs=-1, cv=3, scoring = 'neg_mean_absolute_error')\n",
    "# grid = RandomizedSearchCV(estimator=xgb_model, param_distributions=param_grid, n_jobs=-1, cv=3, scoring = 'neg_mean_absolute_error')\n",
    "\n",
    "# start_time = datetime.now()\n",
    "# grid_result = grid.fit(train_X, train_y)\n",
    "# end_time = datetime.now()\n",
    "# print('Duration: {}'.format(end_time - start_time))\n",
    "# print(grid_result)\n",
    "# print(grid.best_params_)\n",
    "\n",
    "# Plotting error vs. epoch number\n",
    "results = xgb_model.evals_result()\n",
    "\n",
    "epochs = len(results['validation_0']['mae'])\n",
    "x_axis = range(0, epochs)\n",
    "\n",
    "fig, ax = pyplot.subplots()\n",
    "ax.plot(x_axis, results['validation_0']['mae'], label='Train')\n",
    "ax.plot(x_axis, results['validation_1']['mae'], label='Test')\n",
    "ax.legend()\n",
    "pyplot.ylabel('MAE')\n",
    "pyplot.title('XGBoost MAE')\n",
    "pyplot.show()"
   ]
  },
  {
   "cell_type": "code",
   "execution_count": 7,
   "id": "stretch-prerequisite",
   "metadata": {
    "execution": {
     "iopub.execute_input": "2021-04-23T20:26:39.235463Z",
     "iopub.status.busy": "2021-04-23T20:26:39.234116Z",
     "iopub.status.idle": "2021-04-23T20:26:39.568700Z",
     "shell.execute_reply": "2021-04-23T20:26:39.567997Z"
    },
    "papermill": {
     "duration": 0.354998,
     "end_time": "2021-04-23T20:26:39.568871",
     "exception": false,
     "start_time": "2021-04-23T20:26:39.213873",
     "status": "completed"
    },
    "tags": []
   },
   "outputs": [
    {
     "data": {
      "text/html": [
       "<div>\n",
       "<style scoped>\n",
       "    .dataframe tbody tr th:only-of-type {\n",
       "        vertical-align: middle;\n",
       "    }\n",
       "\n",
       "    .dataframe tbody tr th {\n",
       "        vertical-align: top;\n",
       "    }\n",
       "\n",
       "    .dataframe thead th {\n",
       "        text-align: right;\n",
       "    }\n",
       "</style>\n",
       "<table border=\"1\" class=\"dataframe\">\n",
       "  <thead>\n",
       "    <tr style=\"text-align: right;\">\n",
       "      <th></th>\n",
       "      <th>Id</th>\n",
       "      <th>MSSubClass</th>\n",
       "      <th>MSZoning</th>\n",
       "      <th>LotFrontage</th>\n",
       "      <th>LotArea</th>\n",
       "      <th>Street</th>\n",
       "      <th>Alley</th>\n",
       "      <th>LotShape</th>\n",
       "      <th>LandContour</th>\n",
       "      <th>Utilities</th>\n",
       "      <th>...</th>\n",
       "      <th>GarageType_code</th>\n",
       "      <th>GarageFinish_code</th>\n",
       "      <th>GarageQual_code</th>\n",
       "      <th>GarageCond_code</th>\n",
       "      <th>PavedDrive_code</th>\n",
       "      <th>PoolQC_code</th>\n",
       "      <th>Fence_code</th>\n",
       "      <th>MiscFeature_code</th>\n",
       "      <th>SaleType_code</th>\n",
       "      <th>SaleCondition_code</th>\n",
       "    </tr>\n",
       "  </thead>\n",
       "  <tbody>\n",
       "    <tr>\n",
       "      <th>count</th>\n",
       "      <td>1460.000000</td>\n",
       "      <td>1460.000000</td>\n",
       "      <td>1460</td>\n",
       "      <td>1460.000000</td>\n",
       "      <td>1460.000000</td>\n",
       "      <td>1460</td>\n",
       "      <td>1460</td>\n",
       "      <td>1460</td>\n",
       "      <td>1460</td>\n",
       "      <td>1460</td>\n",
       "      <td>...</td>\n",
       "      <td>1460.000000</td>\n",
       "      <td>1460.000000</td>\n",
       "      <td>1460.000000</td>\n",
       "      <td>1460.000000</td>\n",
       "      <td>1460.000000</td>\n",
       "      <td>1460.000000</td>\n",
       "      <td>1460.000000</td>\n",
       "      <td>1460.000000</td>\n",
       "      <td>1460.000000</td>\n",
       "      <td>1460.000000</td>\n",
       "    </tr>\n",
       "    <tr>\n",
       "      <th>unique</th>\n",
       "      <td>NaN</td>\n",
       "      <td>NaN</td>\n",
       "      <td>5</td>\n",
       "      <td>NaN</td>\n",
       "      <td>NaN</td>\n",
       "      <td>2</td>\n",
       "      <td>2</td>\n",
       "      <td>4</td>\n",
       "      <td>4</td>\n",
       "      <td>2</td>\n",
       "      <td>...</td>\n",
       "      <td>NaN</td>\n",
       "      <td>NaN</td>\n",
       "      <td>NaN</td>\n",
       "      <td>NaN</td>\n",
       "      <td>NaN</td>\n",
       "      <td>NaN</td>\n",
       "      <td>NaN</td>\n",
       "      <td>NaN</td>\n",
       "      <td>NaN</td>\n",
       "      <td>NaN</td>\n",
       "    </tr>\n",
       "    <tr>\n",
       "      <th>top</th>\n",
       "      <td>NaN</td>\n",
       "      <td>NaN</td>\n",
       "      <td>RL</td>\n",
       "      <td>NaN</td>\n",
       "      <td>NaN</td>\n",
       "      <td>Pave</td>\n",
       "      <td>Grvl</td>\n",
       "      <td>Reg</td>\n",
       "      <td>Lvl</td>\n",
       "      <td>AllPub</td>\n",
       "      <td>...</td>\n",
       "      <td>NaN</td>\n",
       "      <td>NaN</td>\n",
       "      <td>NaN</td>\n",
       "      <td>NaN</td>\n",
       "      <td>NaN</td>\n",
       "      <td>NaN</td>\n",
       "      <td>NaN</td>\n",
       "      <td>NaN</td>\n",
       "      <td>NaN</td>\n",
       "      <td>NaN</td>\n",
       "    </tr>\n",
       "    <tr>\n",
       "      <th>freq</th>\n",
       "      <td>NaN</td>\n",
       "      <td>NaN</td>\n",
       "      <td>1151</td>\n",
       "      <td>NaN</td>\n",
       "      <td>NaN</td>\n",
       "      <td>1454</td>\n",
       "      <td>790</td>\n",
       "      <td>925</td>\n",
       "      <td>1311</td>\n",
       "      <td>1459</td>\n",
       "      <td>...</td>\n",
       "      <td>NaN</td>\n",
       "      <td>NaN</td>\n",
       "      <td>NaN</td>\n",
       "      <td>NaN</td>\n",
       "      <td>NaN</td>\n",
       "      <td>NaN</td>\n",
       "      <td>NaN</td>\n",
       "      <td>NaN</td>\n",
       "      <td>NaN</td>\n",
       "      <td>NaN</td>\n",
       "    </tr>\n",
       "    <tr>\n",
       "      <th>mean</th>\n",
       "      <td>730.500000</td>\n",
       "      <td>56.897260</td>\n",
       "      <td>NaN</td>\n",
       "      <td>70.104795</td>\n",
       "      <td>10516.828082</td>\n",
       "      <td>NaN</td>\n",
       "      <td>NaN</td>\n",
       "      <td>NaN</td>\n",
       "      <td>NaN</td>\n",
       "      <td>NaN</td>\n",
       "      <td>...</td>\n",
       "      <td>2.292466</td>\n",
       "      <td>1.184247</td>\n",
       "      <td>3.858904</td>\n",
       "      <td>3.900685</td>\n",
       "      <td>1.856164</td>\n",
       "      <td>0.459589</td>\n",
       "      <td>1.478767</td>\n",
       "      <td>1.938356</td>\n",
       "      <td>7.513014</td>\n",
       "      <td>3.770548</td>\n",
       "    </tr>\n",
       "    <tr>\n",
       "      <th>std</th>\n",
       "      <td>421.610009</td>\n",
       "      <td>42.300571</td>\n",
       "      <td>NaN</td>\n",
       "      <td>23.846996</td>\n",
       "      <td>9981.264932</td>\n",
       "      <td>NaN</td>\n",
       "      <td>NaN</td>\n",
       "      <td>NaN</td>\n",
       "      <td>NaN</td>\n",
       "      <td>NaN</td>\n",
       "      <td>...</td>\n",
       "      <td>1.787574</td>\n",
       "      <td>0.810079</td>\n",
       "      <td>0.621157</td>\n",
       "      <td>0.518737</td>\n",
       "      <td>0.496592</td>\n",
       "      <td>0.660558</td>\n",
       "      <td>0.825544</td>\n",
       "      <td>0.498422</td>\n",
       "      <td>1.552100</td>\n",
       "      <td>1.100854</td>\n",
       "    </tr>\n",
       "    <tr>\n",
       "      <th>min</th>\n",
       "      <td>1.000000</td>\n",
       "      <td>20.000000</td>\n",
       "      <td>NaN</td>\n",
       "      <td>21.000000</td>\n",
       "      <td>1300.000000</td>\n",
       "      <td>NaN</td>\n",
       "      <td>NaN</td>\n",
       "      <td>NaN</td>\n",
       "      <td>NaN</td>\n",
       "      <td>NaN</td>\n",
       "      <td>...</td>\n",
       "      <td>0.000000</td>\n",
       "      <td>0.000000</td>\n",
       "      <td>0.000000</td>\n",
       "      <td>0.000000</td>\n",
       "      <td>0.000000</td>\n",
       "      <td>0.000000</td>\n",
       "      <td>0.000000</td>\n",
       "      <td>0.000000</td>\n",
       "      <td>0.000000</td>\n",
       "      <td>0.000000</td>\n",
       "    </tr>\n",
       "    <tr>\n",
       "      <th>25%</th>\n",
       "      <td>365.750000</td>\n",
       "      <td>20.000000</td>\n",
       "      <td>NaN</td>\n",
       "      <td>59.000000</td>\n",
       "      <td>7553.500000</td>\n",
       "      <td>NaN</td>\n",
       "      <td>NaN</td>\n",
       "      <td>NaN</td>\n",
       "      <td>NaN</td>\n",
       "      <td>NaN</td>\n",
       "      <td>...</td>\n",
       "      <td>1.000000</td>\n",
       "      <td>0.000000</td>\n",
       "      <td>4.000000</td>\n",
       "      <td>4.000000</td>\n",
       "      <td>2.000000</td>\n",
       "      <td>0.000000</td>\n",
       "      <td>1.000000</td>\n",
       "      <td>2.000000</td>\n",
       "      <td>8.000000</td>\n",
       "      <td>4.000000</td>\n",
       "    </tr>\n",
       "    <tr>\n",
       "      <th>50%</th>\n",
       "      <td>730.500000</td>\n",
       "      <td>50.000000</td>\n",
       "      <td>NaN</td>\n",
       "      <td>70.000000</td>\n",
       "      <td>9478.500000</td>\n",
       "      <td>NaN</td>\n",
       "      <td>NaN</td>\n",
       "      <td>NaN</td>\n",
       "      <td>NaN</td>\n",
       "      <td>NaN</td>\n",
       "      <td>...</td>\n",
       "      <td>1.000000</td>\n",
       "      <td>1.000000</td>\n",
       "      <td>4.000000</td>\n",
       "      <td>4.000000</td>\n",
       "      <td>2.000000</td>\n",
       "      <td>0.000000</td>\n",
       "      <td>2.000000</td>\n",
       "      <td>2.000000</td>\n",
       "      <td>8.000000</td>\n",
       "      <td>4.000000</td>\n",
       "    </tr>\n",
       "    <tr>\n",
       "      <th>75%</th>\n",
       "      <td>1095.250000</td>\n",
       "      <td>70.000000</td>\n",
       "      <td>NaN</td>\n",
       "      <td>80.000000</td>\n",
       "      <td>11601.500000</td>\n",
       "      <td>NaN</td>\n",
       "      <td>NaN</td>\n",
       "      <td>NaN</td>\n",
       "      <td>NaN</td>\n",
       "      <td>NaN</td>\n",
       "      <td>...</td>\n",
       "      <td>5.000000</td>\n",
       "      <td>2.000000</td>\n",
       "      <td>4.000000</td>\n",
       "      <td>4.000000</td>\n",
       "      <td>2.000000</td>\n",
       "      <td>1.000000</td>\n",
       "      <td>2.000000</td>\n",
       "      <td>2.000000</td>\n",
       "      <td>8.000000</td>\n",
       "      <td>4.000000</td>\n",
       "    </tr>\n",
       "    <tr>\n",
       "      <th>max</th>\n",
       "      <td>1460.000000</td>\n",
       "      <td>190.000000</td>\n",
       "      <td>NaN</td>\n",
       "      <td>313.000000</td>\n",
       "      <td>215245.000000</td>\n",
       "      <td>NaN</td>\n",
       "      <td>NaN</td>\n",
       "      <td>NaN</td>\n",
       "      <td>NaN</td>\n",
       "      <td>NaN</td>\n",
       "      <td>...</td>\n",
       "      <td>5.000000</td>\n",
       "      <td>2.000000</td>\n",
       "      <td>4.000000</td>\n",
       "      <td>4.000000</td>\n",
       "      <td>2.000000</td>\n",
       "      <td>2.000000</td>\n",
       "      <td>3.000000</td>\n",
       "      <td>3.000000</td>\n",
       "      <td>8.000000</td>\n",
       "      <td>5.000000</td>\n",
       "    </tr>\n",
       "  </tbody>\n",
       "</table>\n",
       "<p>11 rows × 124 columns</p>\n",
       "</div>"
      ],
      "text/plain": [
       "                 Id   MSSubClass MSZoning  LotFrontage        LotArea Street  \\\n",
       "count   1460.000000  1460.000000     1460  1460.000000    1460.000000   1460   \n",
       "unique          NaN          NaN        5          NaN            NaN      2   \n",
       "top             NaN          NaN       RL          NaN            NaN   Pave   \n",
       "freq            NaN          NaN     1151          NaN            NaN   1454   \n",
       "mean     730.500000    56.897260      NaN    70.104795   10516.828082    NaN   \n",
       "std      421.610009    42.300571      NaN    23.846996    9981.264932    NaN   \n",
       "min        1.000000    20.000000      NaN    21.000000    1300.000000    NaN   \n",
       "25%      365.750000    20.000000      NaN    59.000000    7553.500000    NaN   \n",
       "50%      730.500000    50.000000      NaN    70.000000    9478.500000    NaN   \n",
       "75%     1095.250000    70.000000      NaN    80.000000   11601.500000    NaN   \n",
       "max     1460.000000   190.000000      NaN   313.000000  215245.000000    NaN   \n",
       "\n",
       "       Alley LotShape LandContour Utilities  ... GarageType_code  \\\n",
       "count   1460     1460        1460      1460  ...     1460.000000   \n",
       "unique     2        4           4         2  ...             NaN   \n",
       "top     Grvl      Reg         Lvl    AllPub  ...             NaN   \n",
       "freq     790      925        1311      1459  ...             NaN   \n",
       "mean     NaN      NaN         NaN       NaN  ...        2.292466   \n",
       "std      NaN      NaN         NaN       NaN  ...        1.787574   \n",
       "min      NaN      NaN         NaN       NaN  ...        0.000000   \n",
       "25%      NaN      NaN         NaN       NaN  ...        1.000000   \n",
       "50%      NaN      NaN         NaN       NaN  ...        1.000000   \n",
       "75%      NaN      NaN         NaN       NaN  ...        5.000000   \n",
       "max      NaN      NaN         NaN       NaN  ...        5.000000   \n",
       "\n",
       "       GarageFinish_code GarageQual_code GarageCond_code PavedDrive_code  \\\n",
       "count        1460.000000     1460.000000     1460.000000     1460.000000   \n",
       "unique               NaN             NaN             NaN             NaN   \n",
       "top                  NaN             NaN             NaN             NaN   \n",
       "freq                 NaN             NaN             NaN             NaN   \n",
       "mean            1.184247        3.858904        3.900685        1.856164   \n",
       "std             0.810079        0.621157        0.518737        0.496592   \n",
       "min             0.000000        0.000000        0.000000        0.000000   \n",
       "25%             0.000000        4.000000        4.000000        2.000000   \n",
       "50%             1.000000        4.000000        4.000000        2.000000   \n",
       "75%             2.000000        4.000000        4.000000        2.000000   \n",
       "max             2.000000        4.000000        4.000000        2.000000   \n",
       "\n",
       "        PoolQC_code   Fence_code  MiscFeature_code  SaleType_code  \\\n",
       "count   1460.000000  1460.000000       1460.000000    1460.000000   \n",
       "unique          NaN          NaN               NaN            NaN   \n",
       "top             NaN          NaN               NaN            NaN   \n",
       "freq            NaN          NaN               NaN            NaN   \n",
       "mean       0.459589     1.478767          1.938356       7.513014   \n",
       "std        0.660558     0.825544          0.498422       1.552100   \n",
       "min        0.000000     0.000000          0.000000       0.000000   \n",
       "25%        0.000000     1.000000          2.000000       8.000000   \n",
       "50%        0.000000     2.000000          2.000000       8.000000   \n",
       "75%        1.000000     2.000000          2.000000       8.000000   \n",
       "max        2.000000     3.000000          3.000000       8.000000   \n",
       "\n",
       "        SaleCondition_code  \n",
       "count          1460.000000  \n",
       "unique                 NaN  \n",
       "top                    NaN  \n",
       "freq                   NaN  \n",
       "mean              3.770548  \n",
       "std               1.100854  \n",
       "min               0.000000  \n",
       "25%               4.000000  \n",
       "50%               4.000000  \n",
       "75%               4.000000  \n",
       "max               5.000000  \n",
       "\n",
       "[11 rows x 124 columns]"
      ]
     },
     "execution_count": 7,
     "metadata": {},
     "output_type": "execute_result"
    }
   ],
   "source": [
    "home_data.head()\n",
    "home_data.describe(include = 'all')"
   ]
  },
  {
   "cell_type": "markdown",
   "id": "boxed-luxury",
   "metadata": {
    "papermill": {
     "duration": 0.015277,
     "end_time": "2021-04-23T20:26:39.600136",
     "exception": false,
     "start_time": "2021-04-23T20:26:39.584859",
     "status": "completed"
    },
    "tags": []
   },
   "source": [
    "# Creating a Model For the Competition\n",
    "\n",
    "Build a Random Forest model and train it on all of **X** and **y**."
   ]
  },
  {
   "cell_type": "code",
   "execution_count": 8,
   "id": "satellite-moral",
   "metadata": {
    "execution": {
     "iopub.execute_input": "2021-04-23T20:26:39.642207Z",
     "iopub.status.busy": "2021-04-23T20:26:39.641288Z",
     "iopub.status.idle": "2021-04-23T20:26:43.441338Z",
     "shell.execute_reply": "2021-04-23T20:26:43.440702Z"
    },
    "papermill": {
     "duration": 3.825162,
     "end_time": "2021-04-23T20:26:43.441487",
     "exception": false,
     "start_time": "2021-04-23T20:26:39.616325",
     "status": "completed"
    },
    "tags": []
   },
   "outputs": [
    {
     "data": {
      "text/plain": [
       "XGBRegressor(base_score=0.5, booster='gbtree', colsample_bylevel=1,\n",
       "             colsample_bynode=1, colsample_bytree=1, eval_metric='mae',\n",
       "             gamma=10, gpu_id=-1, importance_type='gain',\n",
       "             interaction_constraints='', learning_rate=0.01, max_delta_step=0,\n",
       "             max_depth=4, min_child_weight=5, missing=nan,\n",
       "             monotone_constraints='()', n_estimators=1000, n_jobs=4,\n",
       "             num_parallel_tree=1, random_state=0, reg_alpha=0, reg_lambda=1,\n",
       "             scale_pos_weight=1, subsample=0.8, tree_method='exact',\n",
       "             validate_parameters=1, verbosity=None)"
      ]
     },
     "execution_count": 8,
     "metadata": {},
     "output_type": "execute_result"
    }
   ],
   "source": [
    "# To improve accuracy, create a new Extreme Gradient Boost model which you will train on all training data\n",
    "xgb_model_on_full_data = XGBRegressor(n_estimators=1000,max_depth=4,min_child_weight=5,gamma=10,learning_rate=0.01,eval_metric='mae',\n",
    "                        subsample=0.8)\n",
    "# fit xgb_model_on_full_data on all data from the training data\n",
    "xgb_model_on_full_data.fit(X,y)"
   ]
  },
  {
   "cell_type": "markdown",
   "id": "nutritional-transition",
   "metadata": {
    "papermill": {
     "duration": 0.015908,
     "end_time": "2021-04-23T20:26:43.473683",
     "exception": false,
     "start_time": "2021-04-23T20:26:43.457775",
     "status": "completed"
    },
    "tags": []
   },
   "source": [
    "# Make Predictions\n",
    "Read the file of \"test\" data. And apply your model to make predictions"
   ]
  },
  {
   "cell_type": "code",
   "execution_count": 9,
   "id": "living-sessions",
   "metadata": {
    "execution": {
     "iopub.execute_input": "2021-04-23T20:26:43.515920Z",
     "iopub.status.busy": "2021-04-23T20:26:43.515010Z",
     "iopub.status.idle": "2021-04-23T20:26:43.720464Z",
     "shell.execute_reply": "2021-04-23T20:26:43.721114Z"
    },
    "papermill": {
     "duration": 0.231443,
     "end_time": "2021-04-23T20:26:43.721315",
     "exception": false,
     "start_time": "2021-04-23T20:26:43.489872",
     "status": "completed"
    },
    "tags": []
   },
   "outputs": [],
   "source": [
    "# path to file you will use for predictions\n",
    "test_data_path = '../input/test.csv'\n",
    "\n",
    "# read test data file using pandas\n",
    "test_data = pd.read_csv(test_data_path)\n",
    "\n",
    "# Fill NaN values with 0\n",
    "test_data.fillna(method = 'ffill', inplace = True)\n",
    "test_data.fillna(method = 'bfill', inplace = True)\n",
    "\n",
    "# Convert categorical data into numeric labels\n",
    "num_features = list(test_data.select_dtypes(include=[np.number]).columns)\n",
    "cat_features = 'MSZoning Street Alley LotShape LandContour Utilities LotConfig LandSlope Neighborhood \\\n",
    "        Condition1 Condition2 BldgType HouseStyle RoofStyle RoofMatl Exterior1st Exterior2nd \\\n",
    "        MasVnrType ExterQual ExterCond Foundation BsmtQual BsmtCond BsmtExposure BsmtFinType1 \\\n",
    "        BsmtFinType2 Heating HeatingQC CentralAir Electrical KitchenQual Functional FireplaceQu \\\n",
    "        GarageType GarageFinish GarageQual GarageCond PavedDrive PoolQC Fence MiscFeature SaleType \\\n",
    "        SaleCondition'.split()\n",
    "\n",
    "ord_enc = OrdinalEncoder()\n",
    "cat_code_features = []\n",
    "for f in cat_features:\n",
    "    cat_code_features.append(f + '_code')\n",
    "    test_data[f + '_code'] = ord_enc.fit_transform(test_data[[f]])\n",
    "\n",
    "# Create X\n",
    "features = num_features + cat_code_features\n",
    "features.remove('Id')\n",
    "test_X = test_data[features]\n",
    "\n",
    "# make predictions which we will submit. \n",
    "test_preds = xgb_model_on_full_data.predict(test_X)\n",
    "\n",
    "# The lines below shows how to save predictions in format used for competition scoring\n",
    "# Just uncomment them.\n",
    "\n",
    "output = pd.DataFrame({'Id': test_data.Id,\n",
    "                       'SalePrice': test_preds})\n",
    "output.to_csv('submission_v6.csv', index=False)"
   ]
  },
  {
   "cell_type": "markdown",
   "id": "warming-pleasure",
   "metadata": {
    "papermill": {
     "duration": 0.016225,
     "end_time": "2021-04-23T20:26:43.754409",
     "exception": false,
     "start_time": "2021-04-23T20:26:43.738184",
     "status": "completed"
    },
    "tags": []
   },
   "source": [
    "Before submitting, run a check to make sure your `test_preds` have the right format."
   ]
  },
  {
   "cell_type": "code",
   "execution_count": 10,
   "id": "ultimate-effort",
   "metadata": {
    "execution": {
     "iopub.execute_input": "2021-04-23T20:26:43.790874Z",
     "iopub.status.busy": "2021-04-23T20:26:43.789848Z",
     "iopub.status.idle": "2021-04-23T20:26:43.797960Z",
     "shell.execute_reply": "2021-04-23T20:26:43.798440Z"
    },
    "papermill": {
     "duration": 0.027859,
     "end_time": "2021-04-23T20:26:43.798645",
     "exception": false,
     "start_time": "2021-04-23T20:26:43.770786",
     "status": "completed"
    },
    "tags": []
   },
   "outputs": [
    {
     "data": {
      "application/javascript": [
       "parent.postMessage({\"jupyterEvent\": \"custom.exercise_interaction\", \"data\": {\"outcomeType\": 1, \"valueTowardsCompletion\": 1.0, \"interactionType\": 1, \"questionType\": 2, \"questionId\": \"1_CheckSubmittablePreds\", \"learnToolsVersion\": \"0.3.4\", \"failureMessage\": \"\", \"exceptionClass\": \"\", \"trace\": \"\"}}, \"*\")"
      ],
      "text/plain": [
       "<IPython.core.display.Javascript object>"
      ]
     },
     "metadata": {},
     "output_type": "display_data"
    },
    {
     "data": {
      "text/markdown": [
       "<span style=\"color:#33cc33\">Correct</span>"
      ],
      "text/plain": [
       "Correct"
      ]
     },
     "metadata": {},
     "output_type": "display_data"
    }
   ],
   "source": [
    "# Check your answer\n",
    "step_1.check()\n",
    "# step_1.solution()"
   ]
  },
  {
   "cell_type": "markdown",
   "id": "clinical-sterling",
   "metadata": {
    "papermill": {
     "duration": 0.017098,
     "end_time": "2021-04-23T20:26:43.833405",
     "exception": false,
     "start_time": "2021-04-23T20:26:43.816307",
     "status": "completed"
    },
    "tags": []
   },
   "source": [
    "# Test Your Work\n",
    "\n",
    "To test your results, you'll need to join the competition (if you haven't already).  So open a new window by clicking on [this link](https://www.kaggle.com/c/home-data-for-ml-course).  Then click on the **Join Competition** button.\n",
    "\n",
    "![join competition image](https://i.imgur.com/axBzctl.png)\n",
    "\n",
    "Next, follow the instructions below:\n",
    "1. Begin by clicking on the blue **Save Version** button in the top right corner of the window.  This will generate a pop-up window.  \n",
    "2. Ensure that the **Save and Run All** option is selected, and then click on the blue **Save** button.\n",
    "3. This generates a window in the bottom left corner of the notebook.  After it has finished running, click on the number to the right of the **Save Version** button.  This pulls up a list of versions on the right of the screen.  Click on the ellipsis **(...)** to the right of the most recent version, and select **Open in Viewer**.  This brings you into view mode of the same page. You will need to scroll down to get back to these instructions.\n",
    "4. Click on the **Output** tab on the right of the screen.  Then, click on the blue **Submit** button to submit your results to the leaderboard.\n",
    "\n",
    "You have now successfully submitted to the competition!\n",
    "\n",
    "If you want to keep working to improve your performance, select the blue **Edit** button in the top right of the screen. Then you can change your code and repeat the process. There's a lot of room to improve, and you will climb up the leaderboard as you work.\n",
    "\n",
    "\n",
    "# Continuing Your Progress\n",
    "There are many ways to improve your model, and **experimenting is a great way to learn at this point.**\n",
    "\n",
    "The best way to improve your model is to add features.  Look at the list of columns and think about what might affect home prices.  Some features will cause errors because of issues like missing values or non-numeric data types. \n",
    "\n",
    "The **[Intermediate Machine Learning](https://www.kaggle.com/learn/intermediate-machine-learning)** course will teach you how to handle these types of features. You will also learn to use **xgboost**, a technique giving even better accuracy than Random Forest.\n",
    "\n",
    "\n",
    "# Other Courses\n",
    "The **[Pandas](https://kaggle.com/Learn/Pandas)** course will give you the data manipulation skills to quickly go from conceptual idea to implementation in your data science projects. \n",
    "\n",
    "You are also ready for the **[Deep Learning](https://kaggle.com/Learn/Deep-Learning)** course, where you will build models with better-than-human level performance at computer vision tasks."
   ]
  },
  {
   "cell_type": "markdown",
   "id": "hairy-effort",
   "metadata": {
    "papermill": {
     "duration": 0.017032,
     "end_time": "2021-04-23T20:26:43.868093",
     "exception": false,
     "start_time": "2021-04-23T20:26:43.851061",
     "status": "completed"
    },
    "tags": []
   },
   "source": [
    "---\n",
    "\n",
    "\n",
    "\n",
    "\n",
    "*Have questions or comments? Visit the [Learn Discussion forum](https://www.kaggle.com/learn-forum/161285) to chat with other Learners.*"
   ]
  }
 ],
 "metadata": {
  "kernelspec": {
   "display_name": "Python 3",
   "language": "python",
   "name": "python3"
  },
  "language_info": {
   "codemirror_mode": {
    "name": "ipython",
    "version": 3
   },
   "file_extension": ".py",
   "mimetype": "text/x-python",
   "name": "python",
   "nbconvert_exporter": "python",
   "pygments_lexer": "ipython3",
   "version": "3.7.10"
  },
  "papermill": {
   "default_parameters": {},
   "duration": 21.913449,
   "end_time": "2021-04-23T20:26:45.613490",
   "environment_variables": {},
   "exception": null,
   "input_path": "__notebook__.ipynb",
   "output_path": "__notebook__.ipynb",
   "parameters": {},
   "start_time": "2021-04-23T20:26:23.700041",
   "version": "2.3.3"
  }
 },
 "nbformat": 4,
 "nbformat_minor": 5
}
